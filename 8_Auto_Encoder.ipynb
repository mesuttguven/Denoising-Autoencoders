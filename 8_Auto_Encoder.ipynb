{
  "cells": [
    {
      "cell_type": "markdown",
      "metadata": {
        "id": "view-in-github",
        "colab_type": "text"
      },
      "source": [
        "<a href=\"https://colab.research.google.com/github/mesuttguven/Denoising-Autoencoders/blob/main/8_Auto_Encoder.ipynb\" target=\"_parent\"><img src=\"https://colab.research.google.com/assets/colab-badge.svg\" alt=\"Open In Colab\"/></a>"
      ]
    },
    {
      "cell_type": "markdown",
      "metadata": {
        "id": "bU3u7-Tpe3FS"
      },
      "source": [
        "# Denoising Auto Encoders\n",
        "\n",
        "* Instructor: [Mesut GUVEN] (https://github.com/mesuttguven), TOBB ETU in Ankara](https://www.etu.edu.tr/en)\n",
        "* For more information visit the [class website](https://github.com/mesuttguven/ML4CS)."
      ]
    },
    {
      "cell_type": "markdown",
      "metadata": {
        "id": "-xpl6ei7e3FT"
      },
      "source": [
        "# Video Material\n",
        "This Colab consist of ***Denoising AutoEncoders in Keras*** \n",
        "https://github.com/mesuttguven/Denoising-Autoencoders\n",
        "\n",
        "For more content please about Deep Learning and Cyber Security, visit YouTube [[Video]](https://www.youtube.com/channel/UC82XRPy1R8i5d5VxehL_Jrw/videos) \n",
        "\n",
        "\n"
      ]
    },
    {
      "cell_type": "markdown",
      "source": [
        "## There are 4 hyperparameters that we need to set before training an autoencoder:\n",
        "\n",
        "***Code size:*** number of nodes in the middle layer. Smaller size results in more compression.\n",
        "\n",
        "***Number of layers:*** the autoencoder can be as deep as we like. The *only rule* we must follow is *Input and Output* sizes MUST be equal.\n",
        "\n",
        "***Number of nodes per layer:*** We use a ***stacked autoencoder architecture*** *(layers are stacked one after another)*. Usually stacked autoencoders look like a “sandwitch”. \n",
        "\n",
        "*Here*, we create a ***symmetric model*** that have nodes per ***layer decreases with each subsequent layer of the encoder, and increases back in the decoder***. \n",
        "\n",
        "This architecture is not necessary and we have total control over these parameters.\n",
        "\n",
        "***Loss function:*** we either use *mean squared error (mse)* or *binary crossentropy*. If the input values are in the *range [0, 1]* then we typically use crossentropy, otherwise we use the mean squared error. \n",
        "\n",
        "Autoencoders are trained the same way as ANNs via backpropagation"
      ],
      "metadata": {
        "id": "aLXB-g65hqnA"
      }
    },
    {
      "cell_type": "markdown",
      "metadata": {
        "id": "_LOS08_Le3FW"
      },
      "source": [
        "# Import all Necessary  Libraries\n",
        "\n",
        "\n",
        "\n"
      ]
    },
    {
      "cell_type": "code",
      "source": [
        "!pip install -U tensorflow_datasets"
      ],
      "metadata": {
        "colab": {
          "base_uri": "https://localhost:8080/"
        },
        "id": "89RDkAIw_Sy_",
        "outputId": "045485aa-0071-4458-8305-c86c9a5cf6b7"
      },
      "execution_count": null,
      "outputs": [
        {
          "output_type": "stream",
          "name": "stdout",
          "text": [
            "Looking in indexes: https://pypi.org/simple, https://us-python.pkg.dev/colab-wheels/public/simple/\n",
            "Requirement already satisfied: tensorflow_datasets in /usr/local/lib/python3.7/dist-packages (4.6.0)\n",
            "Collecting tensorflow_datasets\n",
            "  Downloading tensorflow_datasets-4.7.0-py3-none-any.whl (4.7 MB)\n",
            "\u001b[K     |████████████████████████████████| 4.7 MB 7.3 MB/s \n",
            "\u001b[?25hRequirement already satisfied: typing-extensions in /usr/local/lib/python3.7/dist-packages (from tensorflow_datasets) (4.1.1)\n",
            "Requirement already satisfied: six in /usr/local/lib/python3.7/dist-packages (from tensorflow_datasets) (1.15.0)\n",
            "Requirement already satisfied: toml in /usr/local/lib/python3.7/dist-packages (from tensorflow_datasets) (0.10.2)\n",
            "Requirement already satisfied: importlib-resources in /usr/local/lib/python3.7/dist-packages (from tensorflow_datasets) (5.10.0)\n",
            "Requirement already satisfied: termcolor in /usr/local/lib/python3.7/dist-packages (from tensorflow_datasets) (2.0.1)\n",
            "Requirement already satisfied: requests>=2.19.0 in /usr/local/lib/python3.7/dist-packages (from tensorflow_datasets) (2.23.0)\n",
            "Requirement already satisfied: tensorflow-metadata in /usr/local/lib/python3.7/dist-packages (from tensorflow_datasets) (1.10.0)\n",
            "Requirement already satisfied: promise in /usr/local/lib/python3.7/dist-packages (from tensorflow_datasets) (2.3)\n",
            "Requirement already satisfied: protobuf>=3.12.2 in /usr/local/lib/python3.7/dist-packages (from tensorflow_datasets) (3.17.3)\n",
            "Requirement already satisfied: numpy in /usr/local/lib/python3.7/dist-packages (from tensorflow_datasets) (1.21.6)\n",
            "Requirement already satisfied: etils[epath] in /usr/local/lib/python3.7/dist-packages (from tensorflow_datasets) (0.8.0)\n",
            "Requirement already satisfied: dill in /usr/local/lib/python3.7/dist-packages (from tensorflow_datasets) (0.3.6)\n",
            "Requirement already satisfied: absl-py in /usr/local/lib/python3.7/dist-packages (from tensorflow_datasets) (1.3.0)\n",
            "Requirement already satisfied: tqdm in /usr/local/lib/python3.7/dist-packages (from tensorflow_datasets) (4.64.1)\n",
            "Requirement already satisfied: certifi>=2017.4.17 in /usr/local/lib/python3.7/dist-packages (from requests>=2.19.0->tensorflow_datasets) (2022.9.24)\n",
            "Requirement already satisfied: chardet<4,>=3.0.2 in /usr/local/lib/python3.7/dist-packages (from requests>=2.19.0->tensorflow_datasets) (3.0.4)\n",
            "Requirement already satisfied: idna<3,>=2.5 in /usr/local/lib/python3.7/dist-packages (from requests>=2.19.0->tensorflow_datasets) (2.10)\n",
            "Requirement already satisfied: urllib3!=1.25.0,!=1.25.1,<1.26,>=1.21.1 in /usr/local/lib/python3.7/dist-packages (from requests>=2.19.0->tensorflow_datasets) (1.24.3)\n",
            "Requirement already satisfied: zipp in /usr/local/lib/python3.7/dist-packages (from etils[epath]->tensorflow_datasets) (3.10.0)\n",
            "Requirement already satisfied: googleapis-common-protos<2,>=1.52.0 in /usr/local/lib/python3.7/dist-packages (from tensorflow-metadata->tensorflow_datasets) (1.56.4)\n",
            "Installing collected packages: tensorflow-datasets\n",
            "  Attempting uninstall: tensorflow-datasets\n",
            "    Found existing installation: tensorflow-datasets 4.6.0\n",
            "    Uninstalling tensorflow-datasets-4.6.0:\n",
            "      Successfully uninstalled tensorflow-datasets-4.6.0\n",
            "Successfully installed tensorflow-datasets-4.7.0\n"
          ]
        }
      ]
    },
    {
      "cell_type": "code",
      "source": [
        "import tensorflow as tf\n",
        "from tensorflow import keras"
      ],
      "metadata": {
        "id": "YSKNVblB-ojy"
      },
      "execution_count": null,
      "outputs": []
    },
    {
      "cell_type": "code",
      "source": [
        "# Import TensorFlow Datasets\n",
        "import tensorflow_datasets as tfds\n",
        "tfds.disable_progress_bar()\n",
        "\n",
        "# Helper libraries\n",
        "import math\n",
        "import numpy as np\n",
        "import matplotlib.pyplot as plt"
      ],
      "metadata": {
        "id": "VYDeFqNFmbR7"
      },
      "execution_count": null,
      "outputs": []
    },
    {
      "cell_type": "markdown",
      "source": [
        "# Loading MNIST Dataset\n",
        "\n"
      ],
      "metadata": {
        "id": "7dgMsqjymsEl"
      }
    },
    {
      "cell_type": "code",
      "source": [
        "(x_train, y_train), (x_test, y_test) = tf.keras.datasets.mnist.load_data()\n",
        "\n",
        "print(x_train.shape)\n",
        "print(x_test.shape)"
      ],
      "metadata": {
        "colab": {
          "base_uri": "https://localhost:8080/"
        },
        "id": "9Y5xXEA2Y12l",
        "outputId": "9ee83300-69bc-4c57-e290-67c28c9d932d"
      },
      "execution_count": null,
      "outputs": [
        {
          "output_type": "stream",
          "name": "stdout",
          "text": [
            "Downloading data from https://storage.googleapis.com/tensorflow/tf-keras-datasets/mnist.npz\n",
            "11490434/11490434 [==============================] - 0s 0us/step\n",
            "(60000, 28, 28)\n",
            "(10000, 28, 28)\n"
          ]
        }
      ]
    },
    {
      "cell_type": "markdown",
      "source": [
        "# Pre-process Data\n",
        "1. Normalizing; scale to range [0-1]\n",
        "2. Convert Image Matrix to a Row Vector\n"
      ],
      "metadata": {
        "id": "6VbaqKFCRy1v"
      }
    },
    {
      "cell_type": "code",
      "source": [
        "x_train = x_train.astype('float32') / 255.0\n",
        "x_test = x_test.astype('float32') / 255.0\n",
        "x_train = x_train.reshape((len(x_train), np.prod(x_train.shape[1:])))\n",
        "x_test = x_test.reshape((len(x_test), np.prod(x_test.shape[1:])))\n",
        "\n",
        "print(x_train.shape)\n",
        "print(x_test.shape)"
      ],
      "metadata": {
        "colab": {
          "base_uri": "https://localhost:8080/"
        },
        "id": "SFuORj50ZB_w",
        "outputId": "e8681787-efa6-43c9-fbb9-a1b80027ec1a"
      },
      "execution_count": null,
      "outputs": [
        {
          "output_type": "stream",
          "name": "stdout",
          "text": [
            "(60000, 784)\n",
            "(10000, 784)\n"
          ]
        }
      ]
    },
    {
      "cell_type": "markdown",
      "source": [
        "#Build a simple autoencoder model\n",
        "Because there are fewer neurons, the auto-encoder must learn to encode the input to the fewer hidden neurons.\n",
        "\n",
        "The critical components of Autoencoders are:\n",
        "\n",
        "***Input layer*** — to pass input data into the network, 1x784 row vector.\n",
        "\n",
        "***Hidden layer*** consisting of Encoder and Decoder — to process information by applying weights, biases and activation functions,\n",
        "\n",
        "***Output layer*** —  matches the input neurons.\n"
      ],
      "metadata": {
        "id": "gPr4hrQBfPnf"
      }
    },
    {
      "cell_type": "code",
      "source": [
        "from keras.layers import Dense, Input\n",
        "\n",
        "input_size = 784\n",
        "hidden_size = 128\n",
        "code_size = 32\n",
        "\n",
        "input_img = Input(shape=(input_size,))\n",
        "hidden_1 = Dense(hidden_size, activation='relu')(input_img)\n",
        "code = Dense(code_size, activation='relu')(hidden_1)\n",
        "hidden_2 = Dense(hidden_size, activation='relu')(code)\n",
        "output_img = Dense(input_size, activation='sigmoid')(hidden_2)"
      ],
      "metadata": {
        "id": "uUSr-5K6ZwLV"
      },
      "execution_count": null,
      "outputs": []
    },
    {
      "cell_type": "code",
      "source": [
        "from keras.models import Model\n",
        "autoencoder = Model(input_img, output_img)"
      ],
      "metadata": {
        "id": "dIm6IWvjZ5HX"
      },
      "execution_count": null,
      "outputs": []
    },
    {
      "cell_type": "code",
      "source": [
        "autoencoder.summary()"
      ],
      "metadata": {
        "colab": {
          "base_uri": "https://localhost:8080/"
        },
        "id": "91zM4GgqaCvo",
        "outputId": "a373b323-25f0-4516-b158-b9ee087b9af1"
      },
      "execution_count": null,
      "outputs": [
        {
          "output_type": "stream",
          "name": "stdout",
          "text": [
            "Model: \"model_2\"\n",
            "_________________________________________________________________\n",
            " Layer (type)                Output Shape              Param #   \n",
            "=================================================================\n",
            " input_1 (InputLayer)        [(None, 784)]             0         \n",
            "                                                                 \n",
            " dense (Dense)               (None, 128)               100480    \n",
            "                                                                 \n",
            " dense_1 (Dense)             (None, 32)                4128      \n",
            "                                                                 \n",
            " dense_2 (Dense)             (None, 128)               4224      \n",
            "                                                                 \n",
            " dense_3 (Dense)             (None, 784)               101136    \n",
            "                                                                 \n",
            "=================================================================\n",
            "Total params: 209,968\n",
            "Trainable params: 209,968\n",
            "Non-trainable params: 0\n",
            "_________________________________________________________________\n"
          ]
        }
      ]
    },
    {
      "cell_type": "code",
      "source": [
        "autoencoder = Model(input_img, output_img)\n",
        "autoencoder.compile(optimizer='adam', loss='binary_crossentropy')\n",
        "autoencoder.fit(x_train, x_train, epochs=3)"
      ],
      "metadata": {
        "colab": {
          "base_uri": "https://localhost:8080/"
        },
        "id": "cziQpFSWZ2IQ",
        "outputId": "e91044a3-4294-4f18-860d-29a606e7c4bd"
      },
      "execution_count": null,
      "outputs": [
        {
          "output_type": "stream",
          "name": "stdout",
          "text": [
            "Epoch 1/3\n",
            "1875/1875 [==============================] - 7s 2ms/step - loss: 0.1370\n",
            "Epoch 2/3\n",
            "1875/1875 [==============================] - 5s 2ms/step - loss: 0.0985\n",
            "Epoch 3/3\n",
            "1875/1875 [==============================] - 9s 5ms/step - loss: 0.0928\n"
          ]
        },
        {
          "output_type": "execute_result",
          "data": {
            "text/plain": [
              "<keras.callbacks.History at 0x7fa8d0699cd0>"
            ]
          },
          "metadata": {},
          "execution_count": 8
        }
      ]
    },
    {
      "cell_type": "markdown",
      "source": [
        "### Plot Define"
      ],
      "metadata": {
        "id": "q7sDt61EdVlt"
      }
    },
    {
      "cell_type": "code",
      "source": [
        "def plot_autoencoder_outputs(autoencoder, n, dims):\n",
        "    decoded_imgs = autoencoder.predict(x_test)\n",
        "\n",
        "    # number of example digits to show\n",
        "    n = 5\n",
        "    plt.figure(figsize=(10, 4.5))\n",
        "    for i in range(n):\n",
        "        # plot original image\n",
        "        ax = plt.subplot(2, n, i + 1)\n",
        "        plt.imshow(x_test[i].reshape(*dims))\n",
        "        plt.gray()\n",
        "        ax.get_xaxis().set_visible(False)\n",
        "        ax.get_yaxis().set_visible(False)\n",
        "        if i == n/2:\n",
        "            ax.set_title('Original Images')\n",
        "\n",
        "        # plot reconstruction \n",
        "        ax = plt.subplot(2, n, i + 1 + n)\n",
        "        plt.imshow(decoded_imgs[i].reshape(*dims))\n",
        "        plt.gray()\n",
        "        ax.get_xaxis().set_visible(False)\n",
        "        ax.get_yaxis().set_visible(False)\n",
        "        if i == n/2:\n",
        "            ax.set_title('Reconstructed Images')\n",
        "    plt.show()\n",
        "\n",
        "def plot_loss(history):\n",
        "    historydf = pd.DataFrame(history.history, index=history.epoch)\n",
        "    plt.figure(figsize=(8, 6))\n",
        "    historydf.plot(ylim=(0, historydf.values.max()))\n",
        "    plt.title('Loss: %.3f' % history.history['loss'][-1])\n",
        "    \n",
        "def plot_compare_histories(history_list, name_list, plot_accuracy=True):\n",
        "    dflist = []\n",
        "    min_epoch = len(history_list[0].epoch)\n",
        "    losses = []\n",
        "    for history in history_list:\n",
        "        h = {key: val for key, val in history.history.items() if not key.startswith('val_')}\n",
        "        dflist.append(pd.DataFrame(h, index=history.epoch))\n",
        "        min_epoch = min(min_epoch, len(history.epoch))\n",
        "        losses.append(h['loss'][-1])\n",
        "\n",
        "    historydf = pd.concat(dflist, axis=1)\n",
        "\n",
        "    metrics = dflist[0].columns\n",
        "    idx = pd.MultiIndex.from_product([name_list, metrics], names=['model', 'metric'])\n",
        "    historydf.columns = idx\n",
        "    \n",
        "    plt.figure(figsize=(6, 8))\n",
        "\n",
        "    ax = plt.subplot(211)\n",
        "    historydf.xs('loss', axis=1, level='metric').plot(ylim=(0,1), ax=ax)\n",
        "    plt.title(\"Training Loss: \" + ' vs '.join([str(round(x, 3)) for x in losses]))\n",
        "    \n",
        "    if plot_accuracy:\n",
        "        ax = plt.subplot(212)\n",
        "        historydf.xs('acc', axis=1, level='metric').plot(ylim=(0,1), ax=ax)\n",
        "        plt.title(\"Accuracy\")\n",
        "        plt.xlabel(\"Epochs\")\n",
        "    \n",
        "    plt.xlim(0, min_epoch-1)\n",
        "    plt.tight_layout()"
      ],
      "metadata": {
        "id": "_iRV1gt8dTLr"
      },
      "execution_count": null,
      "outputs": []
    },
    {
      "cell_type": "markdown",
      "source": [
        "# plot_autoencoder_outputs"
      ],
      "metadata": {
        "id": "3D10DI55dffH"
      }
    },
    {
      "cell_type": "code",
      "source": [
        "plot_autoencoder_outputs(autoencoder, 5, (28, 28))"
      ],
      "metadata": {
        "colab": {
          "base_uri": "https://localhost:8080/",
          "height": 282
        },
        "id": "gPnKwnaPFZfP",
        "outputId": "60f74065-19b5-41cc-aeac-4499c555ed68"
      },
      "execution_count": null,
      "outputs": [
        {
          "output_type": "stream",
          "name": "stdout",
          "text": [
            "313/313 [==============================] - 1s 2ms/step\n"
          ]
        },
        {
          "output_type": "display_data",
          "data": {
            "text/plain": [
              "<Figure size 720x324 with 10 Axes>"
            ],
            "image/png": "[encoded data removed]"
          },
          "metadata": {
            "needs_background": "light"
          }
        }
      ]
    },
    {
      "cell_type": "markdown",
      "source": [
        "# Build a sequentially symetrical autoencoder model"
      ],
      "metadata": {
        "id": "_p1o9qRlgZvS"
      }
    },
    {
      "cell_type": "code",
      "source": [
        "from tensorflow.keras.models import Sequential\n",
        "from tensorflow.keras.layers import Dense, Activation\n",
        "autoencoder_symetrical = Sequential()\n",
        "autoencoder_symetrical.add(Dense(128, input_dim=x_train.shape[1], activation='relu'))\n",
        "autoencoder_symetrical.add(Dense(64, activation='relu'))\n",
        "autoencoder_symetrical.add(Dense(32, activation='relu'))\n",
        "autoencoder_symetrical.add(Dense(16, activation='relu'))\n",
        "autoencoder_symetrical.add(Dense(32, activation='relu'))\n",
        "autoencoder_symetrical.add(Dense(64, activation='relu'))\n",
        "autoencoder_symetrical.add(Dense(128, activation='relu'))\n",
        "autoencoder_symetrical.add(Dense(x_train.shape[1])) # Multiple output neurons"
      ],
      "metadata": {
        "id": "uDLkerEmgZci"
      },
      "execution_count": null,
      "outputs": []
    },
    {
      "cell_type": "code",
      "source": [
        "autoencoder_symetrical.summary()"
      ],
      "metadata": {
        "id": "dgrUXtGxgrDf",
        "colab": {
          "base_uri": "https://localhost:8080/"
        },
        "outputId": "927e88c6-7752-4eb3-b9d9-d2e3dd5cf24f"
      },
      "execution_count": null,
      "outputs": [
        {
          "output_type": "stream",
          "name": "stdout",
          "text": [
            "Model: \"sequential_1\"\n",
            "_________________________________________________________________\n",
            " Layer (type)                Output Shape              Param #   \n",
            "=================================================================\n",
            " dense_12 (Dense)            (None, 128)               100480    \n",
            "                                                                 \n",
            " dense_13 (Dense)            (None, 64)                8256      \n",
            "                                                                 \n",
            " dense_14 (Dense)            (None, 32)                2080      \n",
            "                                                                 \n",
            " dense_15 (Dense)            (None, 16)                528       \n",
            "                                                                 \n",
            " dense_16 (Dense)            (None, 32)                544       \n",
            "                                                                 \n",
            " dense_17 (Dense)            (None, 64)                2112      \n",
            "                                                                 \n",
            " dense_18 (Dense)            (None, 128)               8320      \n",
            "                                                                 \n",
            " dense_19 (Dense)            (None, 784)               101136    \n",
            "                                                                 \n",
            "=================================================================\n",
            "Total params: 223,456\n",
            "Trainable params: 223,456\n",
            "Non-trainable params: 0\n",
            "_________________________________________________________________\n"
          ]
        }
      ]
    },
    {
      "cell_type": "code",
      "source": [
        "autoencoder_symetrical.compile(optimizer='adam', loss='binary_crossentropy')\n",
        "autoencoder_symetrical.fit(x_train, x_train, epochs=20)"
      ],
      "metadata": {
        "id": "4WNmeVR9gum8",
        "colab": {
          "base_uri": "https://localhost:8080/"
        },
        "outputId": "80b72382-635f-40c0-b73e-f2eadcb47040"
      },
      "execution_count": null,
      "outputs": [
        {
          "output_type": "stream",
          "name": "stdout",
          "text": [
            "1875/1875 [==============================] - 5s 3ms/step - loss: 0.3460\n",
            "Epoch 18/20\n",
            "1875/1875 [==============================] - 5s 3ms/step - loss: 0.3451\n",
            "Epoch 19/20\n",
            "1875/1875 [==============================] - 5s 3ms/step - loss: 0.3585\n",
            "Epoch 20/20\n",
            "1875/1875 [==============================] - 6s 3ms/step - loss: 0.3611\n"
          ]
        },
        {
          "output_type": "execute_result",
          "data": {
            "text/plain": [
              "<keras.callbacks.History at 0x7fa8d00c0fd0>"
            ]
          },
          "metadata": {},
          "execution_count": 14
        }
      ]
    },
    {
      "cell_type": "markdown",
      "source": [
        "\n",
        "# plot_autoencoder_outputs"
      ],
      "metadata": {
        "id": "xhuJ8TqWi2fs"
      }
    },
    {
      "cell_type": "code",
      "source": [
        "plot_autoencoder_outputs(autoencoder, 5, (28, 28))"
      ],
      "metadata": {
        "colab": {
          "base_uri": "https://localhost:8080/",
          "height": 282
        },
        "id": "vPb5RGJei5xd",
        "outputId": "012c9efc-bbd9-4302-d940-fac129f05664"
      },
      "execution_count": null,
      "outputs": [
        {
          "output_type": "stream",
          "name": "stdout",
          "text": [
            "313/313 [==============================] - 1s 2ms/step\n"
          ]
        },
        {
          "output_type": "display_data",
          "data": {
            "text/plain": [
              "<Figure size 720x324 with 10 Axes>"
            ],
            "image/png": "[encoded data removed]"
          },
          "metadata": {
            "needs_background": "light"
          }
        }
      ]
    },
    {
      "cell_type": "markdown",
      "source": [
        "# Denoising Autoencoder\n"
      ],
      "metadata": {
        "id": "k-QXvZe2GRG0"
      }
    },
    {
      "cell_type": "code",
      "source": [
        "noise_factor = 0.4\n",
        "x_train_noisy = x_train + noise_factor * np.random.normal(size=x_train.shape) \n",
        "x_test_noisy = x_test + noise_factor * np.random.normal(size=x_test.shape)\n",
        "\n",
        "x_train_noisy = np.clip(x_train_noisy, 0.0, 1.0)\n",
        "x_test_noisy = np.clip(x_test_noisy, 0.0, 1.0)\n",
        "\n",
        "n = 5\n",
        "plt.figure(figsize=(10, 4.5))\n",
        "for i in range(n):\n",
        "    # plot original image\n",
        "    ax = plt.subplot(2, n, i + 1)\n",
        "    plt.imshow(x_test[i].reshape(28, 28))\n",
        "    plt.gray()\n",
        "    ax.get_xaxis().set_visible(False)\n",
        "    ax.get_yaxis().set_visible(False)\n",
        "    if i == n/2:\n",
        "        ax.set_title('Original Images')\n",
        "\n",
        "    # plot noisy image \n",
        "    ax = plt.subplot(2, n, i + 1 + n)\n",
        "    plt.imshow(x_test_noisy[i].reshape(28, 28))\n",
        "    plt.gray()\n",
        "    ax.get_xaxis().set_visible(False)\n",
        "    ax.get_yaxis().set_visible(False)\n",
        "    if i == n/2:\n",
        "        ax.set_title('Noisy Input')"
      ],
      "metadata": {
        "colab": {
          "base_uri": "https://localhost:8080/",
          "height": 264
        },
        "id": "PsOXEA1cFlbR",
        "outputId": "6dd910ad-3605-4dcb-d809-a57a12db27f4"
      },
      "execution_count": null,
      "outputs": [
        {
          "output_type": "display_data",
          "data": {
            "text/plain": [
              "<Figure size 720x324 with 10 Axes>"
            ],
            "image/png": "[encoded data removed]"
          },
          "metadata": {
            "needs_background": "light"
          }
        }
      ]
    },
    {
      "cell_type": "code",
      "source": [
        "input_size = 784\n",
        "hidden_size = 128\n",
        "code_size = 32\n",
        "\n",
        "input_img = Input(shape=(input_size,))\n",
        "hidden_1 = Dense(hidden_size, activation='relu')(input_img)\n",
        "code = Dense(code_size, activation='relu')(hidden_1)\n",
        "hidden_2 = Dense(hidden_size, activation='relu')(code)\n",
        "output_img = Dense(input_size, activation='sigmoid')(hidden_2)\n",
        "\n",
        "autoencoder = Model(input_img, output_img)\n",
        "autoencoder.compile(optimizer='adam', loss='binary_crossentropy')\n",
        "autoencoder.fit(x_train_noisy, x_train, epochs=10)"
      ],
      "metadata": {
        "colab": {
          "base_uri": "https://localhost:8080/"
        },
        "id": "wvAgMaqbFlZI",
        "outputId": "ed96384b-c0c6-4040-c894-f82f8be72dbd"
      },
      "execution_count": null,
      "outputs": [
        {
          "output_type": "stream",
          "name": "stdout",
          "text": [
            "Epoch 1/10\n",
            "1875/1875 [==============================] - 5s 3ms/step - loss: 0.1617\n",
            "Epoch 2/10\n",
            "1875/1875 [==============================] - 5s 2ms/step - loss: 0.1236\n",
            "Epoch 3/10\n",
            "1875/1875 [==============================] - 5s 3ms/step - loss: 0.1168\n",
            "Epoch 4/10\n",
            "1875/1875 [==============================] - 5s 3ms/step - loss: 0.1131\n",
            "Epoch 5/10\n",
            "1875/1875 [==============================] - 5s 2ms/step - loss: 0.1110\n",
            "Epoch 6/10\n",
            "1875/1875 [==============================] - 5s 2ms/step - loss: 0.1096\n",
            "Epoch 7/10\n",
            "1875/1875 [==============================] - 5s 2ms/step - loss: 0.1085\n",
            "Epoch 8/10\n",
            "1875/1875 [==============================] - 5s 3ms/step - loss: 0.1078\n",
            "Epoch 9/10\n",
            "1875/1875 [==============================] - 5s 2ms/step - loss: 0.1071\n",
            "Epoch 10/10\n",
            "1875/1875 [==============================] - 5s 3ms/step - loss: 0.1066\n"
          ]
        },
        {
          "output_type": "execute_result",
          "data": {
            "text/plain": [
              "<keras.callbacks.History at 0x7fdd101d2e90>"
            ]
          },
          "metadata": {},
          "execution_count": 37
        }
      ]
    },
    {
      "cell_type": "code",
      "source": [
        "n = 5\n",
        "plt.figure(figsize=(10, 7))\n",
        "\n",
        "images = autoencoder.predict(x_test_noisy)\n",
        "\n",
        "for i in range(n):\n",
        "    # plot original image\n",
        "    ax = plt.subplot(3, n, i + 1)\n",
        "    plt.imshow(x_test[i].reshape(28, 28))\n",
        "    plt.gray()\n",
        "    ax.get_xaxis().set_visible(False)\n",
        "    ax.get_yaxis().set_visible(False)\n",
        "    if i == n/2:\n",
        "        ax.set_title('Original Images')\n",
        "\n",
        "    # plot noisy image \n",
        "    ax = plt.subplot(3, n, i + 1 + n)\n",
        "    plt.imshow(x_test_noisy[i].reshape(28, 28))\n",
        "    plt.gray()\n",
        "    ax.get_xaxis().set_visible(False)\n",
        "    ax.get_yaxis().set_visible(False)\n",
        "    if i == n/2:\n",
        "        ax.set_title('Noisy Input')\n",
        "        \n",
        "    # plot noisy image \n",
        "    ax = plt.subplot(3, n, i + 1 + 2*n)\n",
        "    plt.imshow(images[i].reshape(28, 28))\n",
        "    plt.gray()\n",
        "    ax.get_xaxis().set_visible(False)\n",
        "    ax.get_yaxis().set_visible(False)\n",
        "    if i == n/2:\n",
        "        ax.set_title('Autoencoder Output')"
      ],
      "metadata": {
        "colab": {
          "base_uri": "https://localhost:8080/",
          "height": 417
        },
        "id": "fzoIh9KVFlW0",
        "outputId": "b7406797-80f7-42a4-fae4-237655f184ca"
      },
      "execution_count": null,
      "outputs": [
        {
          "output_type": "stream",
          "name": "stdout",
          "text": [
            "313/313 [==============================] - 1s 2ms/step\n"
          ]
        },
        {
          "output_type": "display_data",
          "data": {
            "text/plain": [
              "<Figure size 720x504 with 15 Axes>"
            ],
            "image/png": "[encoded data removed]"
          },
          "metadata": {
            "needs_background": "light"
          }
        }
      ]
    },
    {
      "cell_type": "code",
      "source": [],
      "metadata": {
        "id": "b_2yQbOH0Lvj"
      },
      "execution_count": null,
      "outputs": []
    }
  ],
  "metadata": {
    "anaconda-cloud": {},
    "colab": {
      "collapsed_sections": [
        "q7sDt61EdVlt",
        "3D10DI55dffH"
      ],
      "provenance": [],
      "include_colab_link": true
    },
    "kernelspec": {
      "display_name": "Python 3",
      "name": "python3"
    },
    "language_info": {
      "name": "python"
    },
    "varInspector": {
      "cols": {
        "lenName": 16,
        "lenType": 16,
        "lenVar": 40
      },
      "kernels_config": {
        "python": {
          "delete_cmd_postfix": "",
          "delete_cmd_prefix": "del ",
          "library": "var_list.py",
          "varRefreshCmd": "print(var_dic_list())"
        },
        "r": {
          "delete_cmd_postfix": ") ",
          "delete_cmd_prefix": "rm(",
          "library": "var_list.r",
          "varRefreshCmd": "cat(var_dic_list()) "
        }
      },
      "types_to_exclude": [
        "module",
        "function",
        "builtin_function_or_method",
        "instance",
        "_Feature"
      ],
      "window_display": false
    },
    "accelerator": "GPU"
  },
  "nbformat": 4,
  "nbformat_minor": 0
}